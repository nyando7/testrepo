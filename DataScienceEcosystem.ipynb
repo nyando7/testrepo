{
  "metadata": {
    "kernelspec": {
      "name": "python",
      "display_name": "Python (Pyodide)",
      "language": "python"
    },
    "language_info": {
      "codemirror_mode": {
        "name": "python",
        "version": 3
      },
      "file_extension": ".py",
      "mimetype": "text/x-python",
      "name": "python",
      "nbconvert_exporter": "python",
      "pygments_lexer": "ipython3",
      "version": "3.8"
    }
  },
  "nbformat_minor": 4,
  "nbformat": 4,
  "cells": [
    {
      "cell_type": "markdown",
      "source": "Exercise 12 - Share your notebook through GitHub\n\nUpload your notebook to a public respository on GitHub.\n\n    Note : Please keep the GitHub repo link of the notebook handy.\n    You will need to submit this link as a part of the assignment evaluation.\n\nHint: Refer to Lab: Working with files in Jupyter Notebooks to download the notebook from SN Labs.",
      "metadata": {}
    },
    {
      "cell_type": "markdown",
      "source": "## Author\nAmielah Fenositraka ANDRIAMASINORO SEDERA",
      "metadata": {}
    }
  ]
}